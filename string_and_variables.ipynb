{
  "nbformat": 4,
  "nbformat_minor": 0,
  "metadata": {
    "colab": {
      "name": "string and variables.ipynb",
      "provenance": [],
      "authorship_tag": "ABX9TyM/AWUz3SWqnc08ICPy355p",
      "include_colab_link": true
    },
    "kernelspec": {
      "name": "python3",
      "display_name": "Python 3"
    },
    "language_info": {
      "name": "python"
    }
  },
  "cells": [
    {
      "cell_type": "markdown",
      "metadata": {
        "id": "view-in-github",
        "colab_type": "text"
      },
      "source": [
        "<a href=\"https://colab.research.google.com/github/JerylSevilla/JerylSevilla/blob/main/string_and_variables.ipynb\" target=\"_parent\"><img src=\"https://colab.research.google.com/assets/colab-badge.svg\" alt=\"Open In Colab\"/></a>"
      ]
    },
    {
      "cell_type": "code",
      "source": [
        "print('Hello World!')"
      ],
      "metadata": {
        "colab": {
          "base_uri": "https://localhost:8080/"
        },
        "id": "QezL9xxAULhD",
        "outputId": "d153afba-2b36-4fff-e510-bd1f085748ad"
      },
      "execution_count": 1,
      "outputs": [
        {
          "output_type": "stream",
          "name": "stdout",
          "text": [
            "Hello World!\n"
          ]
        }
      ]
    },
    {
      "cell_type": "code",
      "source": [
        "print('Hello World!')"
      ],
      "metadata": {
        "colab": {
          "base_uri": "https://localhost:8080/"
        },
        "id": "S-H2QcVaUcjI",
        "outputId": "b90750af-7f95-41f3-a530-3790a966c758"
      },
      "execution_count": 2,
      "outputs": [
        {
          "output_type": "stream",
          "name": "stdout",
          "text": [
            "Hello World!\n"
          ]
        }
      ]
    },
    {
      "cell_type": "code",
      "source": [
        "print(type('Hello World'))"
      ],
      "metadata": {
        "colab": {
          "base_uri": "https://localhost:8080/"
        },
        "id": "2iVj5s8CUopK",
        "outputId": "5e18965e-d85f-49f4-ab49-dd335abcea3e"
      },
      "execution_count": 3,
      "outputs": [
        {
          "output_type": "stream",
          "name": "stdout",
          "text": [
            "<class 'str'>\n"
          ]
        }
      ]
    },
    {
      "cell_type": "code",
      "source": [
        "# Single quotes\n",
        "print('Hello World!')"
      ],
      "metadata": {
        "colab": {
          "base_uri": "https://localhost:8080/"
        },
        "id": "1CvS7RoeU0R5",
        "outputId": "6e1d6d24-3b85-4b79-f9a3-d82110155dfd"
      },
      "execution_count": 4,
      "outputs": [
        {
          "output_type": "stream",
          "name": "stdout",
          "text": [
            "Hello World!\n"
          ]
        }
      ]
    },
    {
      "cell_type": "code",
      "source": [
        "# Double quotes\n",
        "print(\"Hello World!\")"
      ],
      "metadata": {
        "colab": {
          "base_uri": "https://localhost:8080/"
        },
        "id": "uahn5NRrVE9O",
        "outputId": "b2a92748-7ee6-4c62-cf30-8a1107efde3a"
      },
      "execution_count": 5,
      "outputs": [
        {
          "output_type": "stream",
          "name": "stdout",
          "text": [
            "Hello World!\n"
          ]
        }
      ]
    },
    {
      "cell_type": "code",
      "source": [
        "# Assign string \"Jeryl\" to variable name\n",
        "name = \"Jeryl\"\n",
        "\n",
        "# Print variable name\n",
        "print( name )"
      ],
      "metadata": {
        "colab": {
          "base_uri": "https://localhost:8080/"
        },
        "id": "dm_6CBz2Vex-",
        "outputId": "ec341036-767e-4640-d73d-220a20d50dd2"
      },
      "execution_count": 6,
      "outputs": [
        {
          "output_type": "stream",
          "name": "stdout",
          "text": [
            "Jeryl\n"
          ]
        }
      ]
    },
    {
      "cell_type": "code",
      "source": [
        "# Multiple line string\n",
        "\n",
        "popularLyric =\"\"\"Blackbird singing in the dead of night\n",
        "\n",
        "Take these broken wings and learn to fly\n",
        "\n",
        "All your life\n",
        "\n",
        "You were only waiting for this moment to arise\"\"\"\n"
      ],
      "metadata": {
        "id": "GTcVimCyWKGc"
      },
      "execution_count": 7,
      "outputs": []
    }
  ]
}