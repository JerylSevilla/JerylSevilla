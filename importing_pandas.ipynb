{
  "nbformat": 4,
  "nbformat_minor": 0,
  "metadata": {
    "colab": {
      "name": "importing pandas.ipynb",
      "provenance": [],
      "mount_file_id": "1VevZe3eVItc1TrbKJHyvl7hhKh605urA",
      "authorship_tag": "ABX9TyPbdqZi80r0JAme3+6L7kBx",
      "include_colab_link": true
    },
    "kernelspec": {
      "name": "python3",
      "display_name": "Python 3"
    },
    "language_info": {
      "name": "python"
    }
  },
  "cells": [
    {
      "cell_type": "markdown",
      "metadata": {
        "id": "view-in-github",
        "colab_type": "text"
      },
      "source": [
        "<a href=\"https://colab.research.google.com/github/JerylSevilla/JerylSevilla/blob/main/importing_pandas.ipynb\" target=\"_parent\"><img src=\"https://colab.research.google.com/assets/colab-badge.svg\" alt=\"Open In Colab\"/></a>"
      ]
    },
    {
      "cell_type": "code",
      "execution_count": null,
      "metadata": {
        "id": "DaG5wqFXHBP1"
      },
      "outputs": [],
      "source": [
        "import pandas as pd\n",
        "/content/bostonHousing1978 (1).csv"
      ]
    },
    {
      "cell_type": "code",
      "source": [
        "import pandas as pd\n",
        "filename = '/content/bostonHousing1978 (1).csv'"
      ],
      "metadata": {
        "id": "6ABDUhVOPY0s"
      },
      "execution_count": 3,
      "outputs": []
    }
  ]
}