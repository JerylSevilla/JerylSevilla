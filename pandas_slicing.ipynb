{
  "nbformat": 4,
  "nbformat_minor": 0,
  "metadata": {
    "colab": {
      "name": "pandas slicing.ipynb",
      "provenance": [],
      "authorship_tag": "ABX9TyO3ZpzQhUv1kI279rdRuLHb",
      "include_colab_link": true
    },
    "kernelspec": {
      "name": "python3",
      "display_name": "Python 3"
    },
    "language_info": {
      "name": "python"
    }
  },
  "cells": [
    {
      "cell_type": "markdown",
      "metadata": {
        "id": "view-in-github",
        "colab_type": "text"
      },
      "source": [
        "<a href=\"https://colab.research.google.com/github/JerylSevilla/JerylSevilla/blob/main/pandas_slicing.ipynb\" target=\"_parent\"><img src=\"https://colab.research.google.com/assets/colab-badge.svg\" alt=\"Open In Colab\"/></a>"
      ]
    },
    {
      "cell_type": "code",
      "execution_count": 1,
      "metadata": {
        "colab": {
          "base_uri": "https://localhost:8080/"
        },
        "id": "e3mhjxs3Q48x",
        "outputId": "afba296b-17fb-43e2-ddda-6cc71553c24d"
      },
      "outputs": [
        {
          "output_type": "stream",
          "name": "stdout",
          "text": [
            "Mounted at /content/drive\n"
          ]
        }
      ],
      "source": [
        "from google.colab import drive\n",
        "\n",
        "drive.mount('/content/drive')"
      ]
    },
    {
      "cell_type": "code",
      "source": [
        "import pandas as pd"
      ],
      "metadata": {
        "id": "THlfylsQR3tl"
      },
      "execution_count": 4,
      "outputs": []
    },
    {
      "cell_type": "code",
      "source": [
        "df_bike = pd.read_csv('https://raw.githubuser.com/JerylSevilla.com')"
      ],
      "metadata": {
        "id": "fajMX7T5x2Ql"
      },
      "execution_count": null,
      "outputs": []
    },
    {
      "cell_type": "code",
      "source": [
        "df_bike[['RM']].head()"
      ],
      "metadata": {
        "id": "3ROSxE_oyTsf"
      },
      "execution_count": null,
      "outputs": []
    },
    {
      "cell_type": "code",
      "source": [
        "RM\n",
        "0 6.575\n",
        "1 6.421\n",
        "2 7.185\n",
        "3 6.998\n",
        "4 7.147"
      ],
      "metadata": {
        "id": "rSAOTeriWkdB"
      },
      "execution_count": null,
      "outputs": []
    },
    {
      "cell_type": "code",
      "source": [
        "df_bike[['RM', 'target']].head()"
      ],
      "metadata": {
        "id": "cYzDkPRlqmbh"
      },
      "execution_count": null,
      "outputs": []
    },
    {
      "cell_type": "code",
      "source": [
        "   RM  target\n",
        "0 6.575 24.0\n",
        "1 6.421 21.6\n",
        "2 7.185 34.7\n",
        "3 6.998 33.4\n",
        "4 7.147 36.2"
      ],
      "metadata": {
        "id": "iyRA4B45q3cv"
      },
      "execution_count": null,
      "outputs": []
    },
    {
      "cell_type": "code",
      "source": [
        "df_bike[['RM, 'LSTAT','PTRATIO','target]].tail()\n",
        "        RM   LSTAT   PTRATIO   target\n",
        "501    6.593  9.67    21.0      22.4\n",
        "502    6.120  9.08    21.0      20.6\n",
        "503    6.976  5.64    21.0      23.9\n",
        "504    6.794  6.48    21.0      22.0\n",
        "505    6.030  7.88    21.0      11.9"
      ],
      "metadata": {
        "id": "XRsiT74Mytc3"
      },
      "execution_count": null,
      "outputs": []
    },
    {
      "cell_type": "code",
      "source": [
        "df_bike['RM'].head()\n",
        "0     6.575\n",
        "1     6.421\n",
        "2     7.185\n",
        "3     6.998\n",
        "4     7.147\n",
        "Name: RM, dtype: float64"
      ],
      "metadata": {
        "id": "KYlNNPMyscjo"
      },
      "execution_count": null,
      "outputs": []
    },
    {
      "cell_type": "code",
      "source": [
        "type(df_bike['RM'].head())\n",
        "\n",
        "pandas.core.series.Series"
      ],
      "metadata": {
        "id": "XziWYFuLtPy8"
      },
      "execution_count": null,
      "outputs": []
    },
    {
      "cell_type": "code",
      "source": [
        "df_bike['RM']\n",
        "\n",
        "0            6.575\n",
        "1            6.421\n",
        "2            7.185\n",
        "3            6.998\n",
        "4            7.147\n",
        "            ...\n",
        "501          6.593\n",
        "502          6.120\n",
        "503          6.976\n",
        "504          6.794\n",
        "505          6.030\n",
        "Name: RM, Length: 506, dtype: float64"
      ],
      "metadata": {
        "id": "nUvVnasvuEwc"
      },
      "execution_count": null,
      "outputs": []
    },
    {
      "cell_type": "code",
      "source": [
        "df_bike['RM'][0.10]\n",
        "\n",
        "0   6.575\n",
        "1   6.421\n",
        "2   7.185\n",
        "3   6.998\n",
        "4   7.147\n",
        "5   6.430\n",
        "6   6.012\n",
        "7   6.172\n",
        "8   5.631\n",
        "9   6.004\n",
        "Name: RM, dtype: float64"
      ],
      "metadata": {
        "id": "Ha-BUN6B0od1"
      },
      "execution_count": null,
      "outputs": []
    },
    {
      "cell_type": "code",
      "source": [
        "df_bike.RM.head()\n",
        "\n",
        "0  6.575\n",
        "1  6.421\n",
        "2  7.185\n",
        "3  6.998\n",
        "4  7.147\n",
        "Name: RM,dtype: float64"
      ],
      "metadata": {
        "id": "hk1TrO1QwJJ8"
      },
      "execution_count": null,
      "outputs": []
    },
    {
      "cell_type": "code",
      "source": [
        "df_bike.loc[:,['RM']].head()\n",
        "\n",
        "    RM\n",
        "0   6.575\n",
        "1   6.421\n",
        "2   7.185\n",
        "3   6.998\n",
        "4   7.147"
      ],
      "metadata": {
        "id": "ESLwpDb22YM4"
      },
      "execution_count": null,
      "outputs": []
    },
    {
      "cell_type": "code",
      "source": [
        "df_bike.loc[:, ['RM']].head()\n",
        "\n",
        "   RM\n",
        "0  6.575\n",
        "1  6.421\n",
        "2  7.185\n",
        "3  6.998\n",
        "4  7.147"
      ],
      "metadata": {
        "id": "kIRJd8tP4m5t"
      },
      "execution_count": null,
      "outputs": []
    },
    {
      "cell_type": "code",
      "source": [
        "dk_bike.loc[:, 'RM'].head()\n",
        "\n",
        "0     6.575\n",
        "1     6.421\n",
        "2     7.185\n",
        "3     6.998\n",
        "4     7.147\n",
        "Name: RM, dtype: float64  "
      ],
      "metadata": {
        "id": "xDSHszJm93Q_"
      },
      "execution_count": null,
      "outputs": []
    }
  ]
}