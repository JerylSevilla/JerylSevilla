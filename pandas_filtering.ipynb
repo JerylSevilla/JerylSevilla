{
  "nbformat": 4,
  "nbformat_minor": 0,
  "metadata": {
    "colab": {
      "name": "pandas filtering.ipynb",
      "provenance": [],
      "authorship_tag": "ABX9TyPOc0Ne94fSdCSd53XLqLap",
      "include_colab_link": true
    },
    "kernelspec": {
      "name": "python3",
      "display_name": "Python 3"
    },
    "language_info": {
      "name": "python"
    }
  },
  "cells": [
    {
      "cell_type": "markdown",
      "metadata": {
        "id": "view-in-github",
        "colab_type": "text"
      },
      "source": [
        "<a href=\"https://colab.research.google.com/github/JerylSevilla/JerylSevilla/blob/main/pandas_filtering.ipynb\" target=\"_parent\"><img src=\"https://colab.research.google.com/assets/colab-badge.svg\" alt=\"Open In Colab\"/></a>"
      ]
    },
    {
      "cell_type": "code",
      "execution_count": 1,
      "metadata": {
        "id": "gLfLp6z0fJEL"
      },
      "outputs": [],
      "source": [
        "import pandas as pd"
      ]
    },
    {
      "cell_type": "code",
      "source": [
        "df_bike = pd.read_csv('https://raw.githubusercontent.com/JerylSevilla/pandas filtering/main/RailsToTrails_National%20Count%20Data.com')"
      ],
      "metadata": {
        "id": "LN28UVSAjhd8"
      },
      "execution_count": null,
      "outputs": []
    },
    {
      "cell_type": "code",
      "source": [
        "df_bike.head()\n",
        "    Timeframe    Week of    2019 counts(14 counters)    2020 counts(14 counters)     Change 2019-2020\n",
        "0     Week 1   12/30.2020                68957.0                      93654.0                    36%\n",
        "1     Week 2   1/6/2020                  34778.0                      46964.0                    35%\n",
        "2     Week 3   1/13/2020                 32065.0                      38302.0                    19%\n",
        "3     Week 4   1/20/2020                 35016.0                      41506.0                    19%\n",
        "4     Week 5   1/27/2020                 33627.0                      46335.0                    38%"
      ],
      "metadata": {
        "id": "-oVuu-uGk-7y"
      },
      "execution_count": null,
      "outputs": []
    },
    {
      "cell_type": "code",
      "source": [
        "df_fil = df_bike['Week of'] >='31-July'\n",
        "df_fil.head()\n",
        "\n",
        "0     False\n",
        "1     False\n",
        "2     False\n",
        "3     False\n",
        "4     False\n",
        "Name: Week of, dtype: bool"
      ],
      "metadata": {
        "id": "2pzbLpRPsMti"
      },
      "execution_count": null,
      "outputs": []
    },
    {
      "cell_type": "code",
      "source": [
        "df_data = (df_bike [df_bike['Week of'] >= '31-July'])\n",
        "df_bike.head()\n",
        "     Timeframe   Week of   2019 counts(14 counters)    2020 counts(14 counters)    Change 2019-2020\n",
        "14    Week 15    4/6/2020                83893.0                    107420.0                   28% \n",
        "15    Week 16    4/13/2020               71677.0                    122291.0                   71%\n",
        "16    Week 17    4/20/2020               87834.0                    106246.0                   21%\n",
        "17    Week 18    4/27/2020               88284.0                    109459.0                   24%\n",
        "18    Week 19    5/4/2020                94980.0                    109391.0                   15%"
      ],
      "metadata": {
        "id": "1mmlTSWKtP17"
      },
      "execution_count": null,
      "outputs": []
    },
    {
      "cell_type": "code",
      "source": [
        "df_bike[df_fil].head()\n",
        "\n",
        "    Timeframe  Week of   2019 counts(14 counters)    2020 counts(14 counters)    Change 2019-2020\n",
        "14    Week 15   4/6/2020                83893.0                    107420.0                  28%\n",
        "15    Week 16   4/13/2020               71677.0                    122291.0                  71%\n",
        "16    Week 17   4/20/2020               87834.0                    106246.0                  21%\n",
        "17    Week 18   4/27/2020               88284.0                    109459.0                  24%\n",
        "18    Week 19   5/4/2020                94980.0                    109391.0                  15%"
      ],
      "metadata": {
        "id": "i2tr2Wy7v-JM"
      },
      "execution_count": null,
      "outputs": []
    },
    {
      "cell_type": "code",
      "source": [
        "df_bike.loc[df_fil, :].head()\n",
        "\n",
        "   Timeframe   Week of   2019 counts(14counters)     2020 counts(14 counters)    Change 2019-2020\n",
        "14  Week 15    4/6/2020              83893.0                      107420.0                   28%\n",
        "15  Week 16    4/13/2020             71677.0                      122291.0                   71% \n",
        "16  Week 17    4/20/2020             87834.0                      106246.0                   21%\n",
        "17  Week 18    4/27/2020             88284.0                      109459.0                   24%\n",
        "18  Week 19    5/4/2020              94980.0                      109391.0                   15% "
      ],
      "metadata": {
        "id": "aoA2Yxqi00nb"
      },
      "execution_count": null,
      "outputs": []
    },
    {
      "cell_type": "code",
      "source": [
        "df =df_bike.loc[df_fil, :]\n",
        "df['Week of'].value_counts()\n",
        "\n",
        "4/6/2020    1\n",
        "4/13/2020   1\n",
        "9/21/2020   1\n",
        "9/14/2020   1\n",
        "9/7/2020    1\n",
        "Name: Week of, dtype: int64"
      ],
      "metadata": {
        "id": "THYSLKrc3Ouz"
      },
      "execution_count": null,
      "outputs": []
    },
    {
      "cell_type": "code",
      "source": [
        "df_bike['Change 2019-2020'].value_counts()\n",
        "19%    4\n",
        "32%    3\n",
        "4%     2\n",
        "15%    2\n",
        "21%    2\n",
        "25%    2\n",
        "91%    2\n",
        "59%    1\n",
        "34%    1\n",
        "14%    1\n",
        "16%    1\n",
        "17%    1\n",
        "40%    1\n",
        "-7%    1\n",
        "31%    1\n",
        "9%     1\n",
        "75%    1\n",
        "-3%    1\n",
        "45%    1"
      ],
      "metadata": {
        "id": "SK5GCDXe4N3O"
      },
      "execution_count": null,
      "outputs": []
    },
    {
      "cell_type": "code",
      "source": [
        "df_head()\n",
        "   Timeframe   Week of   2019 count(14 counters)      2020 counts(14 counters)    Change 2019-2020\n",
        "14   Week 15    4/6/2020                83893.0                    107420.0                   28%\n",
        "15   Week 16    4/13/2020               71677.0                    122291.0                   71%\n",
        "16   Week 17    4/20/2020               87834.0                    106246.0                   21%\n",
        "17   Week 18    4/27/2020               88284.0                    109459.0                   24%\n",
        "18   Week 19    5/4/2020                94980.0                    109391.0                   15%          "
      ],
      "metadata": {
        "id": "tukJ-MDj6vq2"
      },
      "execution_count": null,
      "outputs": []
    },
    {
      "cell_type": "code",
      "source": [
        "df_change = df_bike['Change 2019-2020'] >'100%'\n",
        "df_change.head()\n",
        "\n",
        "14    True\n",
        "15    True\n",
        "16    True\n",
        "17    True\n",
        "18    True\n",
        "Name: Change 2019-2020, dtype:  bool"
      ],
      "metadata": {
        "id": "vJFgIXRo8482"
      },
      "execution_count": null,
      "outputs": []
    },
    {
      "cell_type": "code",
      "source": [
        "df =(df_bike [df_bike ['Change 2019-2020'] > '100%'])\n",
        "df\n",
        "   Timeframe    Week of  2019 counts(14 counters)   2020 counts(14 counters)     Change 2019-2020\n",
        "14   Week 15     4/6/2020               83893.0                   107420.0                   28%\n",
        "15   Week 16     4/13/2020              71677.0                   122291.0                   71%\n",
        "16   Week 17     4/20/2020              87834.0                   106246.0                   21%\n",
        "33   Week 34     8/17/2020              61826.0                   86466.0                    40%\n",
        "34   Week 35     8/24/2020              69618.0                   72144.0                    4%\n",
        "35   Week 36     8/31/2020              73657.0                   85100.0                    16%\n",
        "36   Week 37     9/7/2020               64835.0                   73695.0                    14%\n",
        "37   Week 38     9/14/2020              56589.0                   75856.0                    34%\n",
        "38   Week 39     9/21/2020              51308.0                   81451.0                    59%\n",
        "39   Week 40     9/28/2020              57862.0                   75523.0                    31%"
      ],
      "metadata": {
        "id": "KXwOOiOB9ld3"
      },
      "execution_count": null,
      "outputs": []
    },
    {
      "cell_type": "code",
      "source": [
        "df_change = df_bike['Change 2019-2020'] >'100%'\n",
        "df_bike = df_bike.loc[df_change, :]\n",
        "df_bike['Change 2019-2020'].value_counts(dropna = False)\n",
        "\n",
        "21%    2\n",
        "15%    2\n",
        "19%    2\n",
        "28%    1\n",
        "32%    1\n",
        "59%    1\n",
        "34%    1\n",
        "14%    1\n",
        "16%    1\n",
        "4%     1\n",
        "40%    1\n",
        "48%    1\n",
        "9%     1\n",
        "71%    1\n",
        "25%    1\n",
        "17%    1\n",
        "29%    1\n",
        "24%    1\n",
        "Name: Change 2019-2020, dtype: int64"
      ],
      "metadata": {
        "id": "YE7_Mdm2Bvyw"
      },
      "execution_count": null,
      "outputs": []
    },
    {
      "cell_type": "code",
      "source": [
        "df_bike = df_bike.loc[df_fil & df_Change, :]"
      ],
      "metadata": {
        "id": "npHDvPZMDReW"
      },
      "execution_count": null,
      "outputs": []
    },
    {
      "cell_type": "code",
      "source": [
        "df_bike\n",
        "   Timeframe   Week of  2019 counts(14 counters)   2020 counts(14 counters)      Change 2019-2020\n",
        "14   Week 15    4/6/2020            83894.0                    107420.0                   28%\n",
        "15   Week 16    4/13/2020           71677.0                    122291.0                   71%\n",
        "16   Week 17    4/20/2020           87834.0                    106246.0                   21%\n",
        "17   Week 18    4/27/2020           88284.0                    109459.0                   24%\n",
        "18   Week 19    5/4/2020            94980.0                    109391.0                   15%\n",
        "19   Week 20    5/11 2020           100251.0                   119716.0                   19%\n",
        "22   Week 23    6/1/2020            97451.0                    115580.0                   19%\n",
        "23   Week 24    6/8/2020            94747.0                    122561.0                   29%\n",
        "24   Week 25    6/15/2020           87304.0                    105924.0                   21%\n",
        "25   Week 26    6/22/2020           84230.0                    97094.0                    15%\n",
        "26   Week 27    6/28/2020           68866.0                    80405.0                    17%"
      ],
      "metadata": {
        "id": "d59LwBs2Ditq"
      },
      "execution_count": null,
      "outputs": []
    }
  ]
}