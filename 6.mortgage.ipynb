{
  "nbformat": 4,
  "nbformat_minor": 0,
  "metadata": {
    "colab": {
      "name": "Untitled1.ipynb",
      "provenance": [],
      "authorship_tag": "ABX9TyPngVS2aI08/X3651Oc1xBs",
      "include_colab_link": true
    },
    "kernelspec": {
      "name": "python3",
      "display_name": "Python 3"
    },
    "language_info": {
      "name": "python"
    }
  },
  "cells": [
    {
      "cell_type": "markdown",
      "metadata": {
        "id": "view-in-github",
        "colab_type": "text"
      },
      "source": [
        "<a href=\"https://colab.research.google.com/github/JerylSevilla/JerylSevilla/blob/main/6.mortgage.ipynb\" target=\"_parent\"><img src=\"https://colab.research.google.com/assets/colab-badge.svg\" alt=\"Open In Colab\"/></a>"
      ]
    },
    {
      "cell_type": "markdown",
      "source": [
        "STRING AND VARIABLES"
      ],
      "metadata": {
        "id": "KXvNUnIGIROt"
      }
    },
    {
      "cell_type": "code",
      "source": [
        "print('Hello World!')"
      ],
      "metadata": {
        "colab": {
          "base_uri": "https://localhost:8080/"
        },
        "id": "iv2stWEAIUhd",
        "outputId": "15be673f-71b4-4994-a194-845e49e2d754"
      },
      "execution_count": 1,
      "outputs": [
        {
          "output_type": "stream",
          "name": "stdout",
          "text": [
            "Hello World!\n"
          ]
        }
      ]
    },
    {
      "cell_type": "code",
      "source": [
        "print('Hello World!')"
      ],
      "metadata": {
        "id": "RhBB7KWZI7we",
        "outputId": "e507cc16-5645-445f-d6de-44cd1d175fd6",
        "colab": {
          "base_uri": "https://localhost:8080/"
        }
      },
      "execution_count": 2,
      "outputs": [
        {
          "output_type": "stream",
          "name": "stdout",
          "text": [
            "Hello World!\n"
          ]
        }
      ]
    },
    {
      "cell_type": "code",
      "source": [
        "print(type('Hello World'))"
      ],
      "metadata": {
        "id": "5UarqvNzJHfv",
        "outputId": "5db90c28-0f03-4bc8-aaa9-c688d7932d80",
        "colab": {
          "base_uri": "https://localhost:8080/"
        }
      },
      "execution_count": 3,
      "outputs": [
        {
          "output_type": "stream",
          "name": "stdout",
          "text": [
            "<class 'str'>\n"
          ]
        }
      ]
    },
    {
      "cell_type": "code",
      "source": [
        "# Single quotes\n",
        "print(\"Hello World!\")"
      ],
      "metadata": {
        "id": "4nqjC_eRJT0v",
        "outputId": "3c7c2783-bf8c-45e8-ad3a-903dd84d027f",
        "colab": {
          "base_uri": "https://localhost:8080/"
        }
      },
      "execution_count": 4,
      "outputs": [
        {
          "output_type": "stream",
          "name": "stdout",
          "text": [
            "Hello World!\n"
          ]
        }
      ]
    },
    {
      "cell_type": "code",
      "source": [
        "# Double quotes\n",
        "print(\"Hello World!\")"
      ],
      "metadata": {
        "id": "2mj2MUO5JsCz",
        "outputId": "7574938e-f7a7-4b9f-fec6-bb37aa162687",
        "colab": {
          "base_uri": "https://localhost:8080/"
        }
      },
      "execution_count": 5,
      "outputs": [
        {
          "output_type": "stream",
          "name": "stdout",
          "text": [
            "Hello World!\n"
          ]
        }
      ]
    },
    {
      "cell_type": "code",
      "source": [
        "# Assign string \"Jeryl\" to variables name\n",
        "name = \"JERYL\"\n",
        "\n",
        "# Print variable name\n",
        "print( name )"
      ],
      "metadata": {
        "id": "lnJMnX-nKBN5",
        "outputId": "66ab6c7f-5d0b-495c-fed0-9b3697633a1f",
        "colab": {
          "base_uri": "https://localhost:8080/"
        }
      },
      "execution_count": 6,
      "outputs": [
        {
          "output_type": "stream",
          "name": "stdout",
          "text": [
            "JERYL\n"
          ]
        }
      ]
    },
    {
      "cell_type": "code",
      "source": [
        "# Multiple line string\n",
        "\n",
        "popularLyric =\"\"\" singing in the dead of night\n",
        "\n",
        "Take this broken wings and learn to fly\n",
        "\n",
        "all your life\n",
        "\n",
        "YOu were only waiting for this moment to arise\"\"\""
      ],
      "metadata": {
        "id": "mydq-JOvLHdh"
      },
      "execution_count": 9,
      "outputs": []
    },
    {
      "cell_type": "markdown",
      "source": [
        "MORTGAGE"
      ],
      "metadata": {
        "id": "uPzH_nKSNMvj"
      }
    },
    {
      "cell_type": "code",
      "source": [
        "print('30 * 12 = 360 month term')"
      ],
      "metadata": {
        "id": "41k7c2hGNQbI",
        "outputId": "43b9cbbb-47d3-4b6f-c2c2-85f25f65f821",
        "colab": {
          "base_uri": "https://localhost:8080/"
        }
      },
      "execution_count": 14,
      "outputs": [
        {
          "output_type": "stream",
          "name": "stdout",
          "text": [
            "30 * 12 = 360 month term\n"
          ]
        }
      ]
    },
    {
      "cell_type": "code",
      "source": [
        "print('30 + 6%')"
      ],
      "metadata": {
        "id": "Z4UEc8zfQBCr",
        "outputId": "a3df12c6-1ff0-4fcc-a466-8824eec93bd1",
        "colab": {
          "base_uri": "https://localhost:8080/"
        }
      },
      "execution_count": 15,
      "outputs": [
        {
          "output_type": "stream",
          "name": "stdout",
          "text": [
            "30 + 6%\n"
          ]
        }
      ]
    }
  ]
}